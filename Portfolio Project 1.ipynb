{
 "cells": [
  {
   "cell_type": "markdown",
   "metadata": {},
   "source": [
    "# U.S. Medical Insurance Costs"
   ]
  },
  {
   "cell_type": "code",
   "execution_count": 62,
   "metadata": {},
   "outputs": [],
   "source": [
    "import csv\n",
    "import pandas as pd\n",
    "from matplotlib import pyplot as plt"
   ]
  },
  {
   "cell_type": "markdown",
   "metadata": {},
   "source": [
    "# Read csv file into a dataframe for easy accessiblity"
   ]
  },
  {
   "cell_type": "code",
   "execution_count": 23,
   "metadata": {
    "scrolled": true
   },
   "outputs": [
    {
     "name": "stdout",
     "output_type": "stream",
     "text": [
      "   age     sex     bmi  children smoker     region      charges\n",
      "0   19  female  27.900         0    yes  southwest  16884.92400\n",
      "1   18    male  33.770         1     no  southeast   1725.55230\n",
      "2   28    male  33.000         3     no  southeast   4449.46200\n",
      "3   33    male  22.705         0     no  northwest  21984.47061\n",
      "4   32    male  28.880         0     no  northwest   3866.85520\n"
     ]
    }
   ],
   "source": [
    "insurance_df = pd.read_csv('insurance.csv')"
   ]
  },
  {
   "cell_type": "code",
   "execution_count": 24,
   "metadata": {},
   "outputs": [
    {
     "name": "stdout",
     "output_type": "stream",
     "text": [
      "   age     sex     bmi  children smoker     region      charges\n",
      "0   19  female  27.900         0    yes  southwest  16884.92400\n",
      "1   18    male  33.770         1     no  southeast   1725.55230\n",
      "2   28    male  33.000         3     no  southeast   4449.46200\n",
      "3   33    male  22.705         0     no  northwest  21984.47061\n",
      "4   32    male  28.880         0     no  northwest   3866.85520\n"
     ]
    }
   ],
   "source": [
    "print(insurance_df.head())"
   ]
  },
  {
   "cell_type": "markdown",
   "metadata": {},
   "source": [
    "# Changing Variables to see what is the biggest factor in insurance charges"
   ]
  },
  {
   "cell_type": "markdown",
   "metadata": {},
   "source": [
    "#Keeping Sex Constant and changing other Variables, what would be the biggest changes?"
   ]
  },
  {
   "cell_type": "code",
   "execution_count": 32,
   "metadata": {},
   "outputs": [
    {
     "name": "stdout",
     "output_type": "stream",
     "text": [
      "      sex       charges\n",
      "0  female  12569.578844\n",
      "1    male  13956.751178\n"
     ]
    }
   ],
   "source": [
    "sex_average = insurance_df.groupby('sex').charges.mean().reset_index()\n",
    "print(insurance_df_sex)"
   ]
  },
  {
   "cell_type": "code",
   "execution_count": 53,
   "metadata": {},
   "outputs": [
    {
     "name": "stdout",
     "output_type": "stream",
     "text": [
      "     index  age     sex     bmi  children smoker     region      charges\n",
      "0       46   18  female  38.665         2     no  northeast   3393.35635\n",
      "1      728   18  female  40.280         0     no  northeast   2217.60120\n",
      "2      803   18  female  42.240         0    yes  southeast  38792.68560\n",
      "3      942   18  female  40.185         0     no  northeast   2217.46915\n",
      "4       50   18  female  35.625         0     no  northeast   2211.13075\n",
      "..     ...  ...     ...     ...       ...    ...        ...          ...\n",
      "657    768   64  female  39.700         0     no  southwest  14319.03100\n",
      "658     94   64  female  31.300         2    yes  southwest  47291.05500\n",
      "659    664   64  female  22.990         0    yes  southeast  27037.91410\n",
      "660    801   64  female  35.970         0     no  southeast  14313.84630\n",
      "661    890   64  female  26.885         0    yes  northwest  29330.98315\n",
      "\n",
      "[662 rows x 8 columns]\n",
      "     index  age   sex     bmi  children smoker     region      charges\n",
      "0        1   18  male  33.770         1     no  southeast   1725.55230\n",
      "1      648   18  male  28.500         0     no  northeast   1712.22700\n",
      "2      781   18  male  41.140         0     no  southeast   1146.79660\n",
      "3     1033   18  male  21.565         0    yes  northeast  13747.87235\n",
      "4     1080   18  male  21.780         2     no  southeast  11884.04858\n",
      "..     ...  ...   ...     ...       ...    ...        ...          ...\n",
      "671   1241   64  male  36.960         2    yes  southeast  49577.66240\n",
      "672    420   64  male  33.880         0    yes  southeast  46889.26120\n",
      "673   1265   64  male  23.760         0    yes  southeast  26926.51440\n",
      "674    752   64  male  37.905         0     no  northwest  14210.53595\n",
      "675    335   64  male  34.500         0     no  southwest  13822.80300\n",
      "\n",
      "[676 rows x 8 columns]\n"
     ]
    }
   ],
   "source": [
    "sex_female = insurance_df[insurance_df.sex == 'female']\n",
    "sex_female = sex_female.sort_values(by='age').reset_index()\n",
    "print(sex_female)\n",
    "sex_male = insurance_df[insurance_df.sex == 'male']\n",
    "sex_male = sex_male.sort_values(by='age').reset_index()\n",
    "print(sex_male)"
   ]
  },
  {
   "cell_type": "code",
   "execution_count": 70,
   "metadata": {},
   "outputs": [
    {
     "data": {
      "image/png": "[encoded data removed]",
      "text/plain": [
       "<Figure size 432x288 with 1 Axes>"
      ]
     },
     "metadata": {
      "needs_background": "light"
     },
     "output_type": "display_data"
    }
   ],
   "source": [
    "female_sex_age = sex_female.groupby(['sex','age']).charges.mean().reset_index()\n",
    "# print(female_sex_age)\n",
    "plt.plot(female_sex_age.age,female_sex_age.charges)\n",
    "plt.show()"
   ]
  },
  {
   "cell_type": "code",
   "execution_count": 56,
   "metadata": {},
   "outputs": [
    {
     "name": "stdout",
     "output_type": "stream",
     "text": [
      "     sex  age       charges\n",
      "0   male   18   7603.180557\n",
      "1   male   19   9876.241479\n",
      "2   male   20  12780.292557\n",
      "3   male   21   4193.191381\n",
      "4   male   22  12073.083743\n",
      "5   male   23   6249.169528\n",
      "6   male   24  14726.212134\n",
      "7   male   25  11436.821289\n",
      "8   male   26   6238.092207\n",
      "9   male   27  10407.656561\n",
      "10  male   28  11622.567716\n",
      "11  male   29  13298.580781\n",
      "12  male   30  15604.684805\n",
      "13  male   31  11546.072300\n",
      "14  male   32   9514.321854\n",
      "15  male   33  12264.365625\n",
      "16  male   34  12290.449530\n",
      "17  male   35  11265.833152\n",
      "18  male   36  17274.985462\n",
      "19  male   37  15956.808402\n",
      "20  male   38   9919.546488\n",
      "21  male   39  14356.309565\n",
      "22  male   40   9704.719357\n",
      "23  male   41  11537.872675\n",
      "24  male   42  13884.293811\n",
      "25  male   43  19999.669198\n",
      "26  male   44  14456.856598\n",
      "27  male   45  16782.582037\n",
      "28  male   46  14255.103088\n",
      "29  male   47  19344.029414\n",
      "30  male   48  15850.409109\n",
      "31  male   49  13307.131439\n",
      "32  male   50  18163.591449\n",
      "33  male   51  14280.192968\n",
      "34  male   52  20685.642063\n",
      "35  male   53  14640.653348\n",
      "36  male   54  20989.347485\n",
      "37  male   55  16245.625341\n",
      "38  male   56  18296.115673\n",
      "39  male   57  16184.369276\n",
      "40  male   58  14629.645304\n",
      "41  male   59  17726.974646\n",
      "42  male   60  26262.168367\n",
      "43  male   61  22039.190030\n",
      "44  male   62  21843.286953\n",
      "45  male   63  17200.753432\n",
      "46  male   64  23057.882975\n"
     ]
    }
   ],
   "source": [
    "male_sex_age = sex_male.groupby(['sex','age']).charges.mean().reset_index()\n",
    "print(male_sex_age)"
   ]
  },
  {
   "cell_type": "code",
   "execution_count": 29,
   "metadata": {},
   "outputs": [
    {
     "name": "stdout",
     "output_type": "stream",
     "text": [
      "  smoker      charges\n",
      "0     no   7345.40530\n",
      "1    yes  34456.34845\n"
     ]
    }
   ],
   "source": [
    "smoker_average = insurance_df.groupby('smoker').charges.median().reset_index()\n",
    "print(smoker_average)"
   ]
  }
 ],
 "metadata": {
  "kernelspec": {
   "display_name": "Python 3 (ipykernel)",
   "language": "python",
   "name": "python3"
  },
  "language_info": {
   "codemirror_mode": {
    "name": "ipython",
    "version": 3
   },
   "file_extension": ".py",
   "mimetype": "text/x-python",
   "name": "python",
   "nbconvert_exporter": "python",
   "pygments_lexer": "ipython3",
   "version": "3.9.12"
  }
 },
 "nbformat": 4,
 "nbformat_minor": 4
}
